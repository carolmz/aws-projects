{
 "cells": [
  {
   "cell_type": "markdown",
   "id": "cb0df557",
   "metadata": {},
   "source": [
    "## S3 Data Pipeline"
   ]
  },
  {
   "cell_type": "markdown",
   "id": "5e49aed6",
   "metadata": {},
   "source": [
    "Upload a CSV to S3, read it with Boto3 and Pandas, clean the data, and convert it to Parquet before re-uploading.  \n",
    "Includes error handling and data transformation.\n",
    "\n",
    "**Stack:** AWS S3, Boto3, Pandas, PyArrow"
   ]
  },
  {
   "cell_type": "code",
   "execution_count": 1,
   "id": "120c2698",
   "metadata": {},
   "outputs": [],
   "source": [
    "import boto3\n",
    "import pandas as pd\n",
    "import io\n",
    "import pyarrow as pa\n",
    "import pyarrow.parquet as pq"
   ]
  },
  {
   "cell_type": "code",
   "execution_count": 2,
   "id": "41ef7103",
   "metadata": {},
   "outputs": [],
   "source": [
    "# --------- SETTINGS ---------\n",
    "bucket_name = \"carol-s3-demo\"\n",
    "input_key = \"data/sample_input.csv\"\n",
    "output_key = \"data/output.parquet\"\n",
    "region = \"us-east-1\""
   ]
  },
  {
   "cell_type": "code",
   "execution_count": 3,
   "id": "b9734983",
   "metadata": {},
   "outputs": [],
   "source": [
    "# --------- CONNECT TO S3 ---------\n",
    "s3 = boto3.client('s3', region_name=region)"
   ]
  },
  {
   "cell_type": "code",
   "execution_count": 5,
   "id": "785d33cd",
   "metadata": {},
   "outputs": [
    {
     "name": "stdout",
     "output_type": "stream",
     "text": [
      "✅ Original data loaded:\n",
      "   id     name   age              email\n",
      "0   1    Alice  25.0  alice@example.com\n",
      "1   2      Bob  30.0    bob@example.com\n",
      "2   3  Charlie  35.0                NaN\n",
      "3   4    David   NaN  david@example.com\n",
      "4   5      NaN  40.0    eve@example.com\n"
     ]
    }
   ],
   "source": [
    "# --------- READ CSV FROM S3 ---------\n",
    "response = s3.get_object(Bucket=bucket_name, Key=input_key)\n",
    "csv_data = response['Body'].read()\n",
    "df = pd.read_csv(io.BytesIO(csv_data))\n",
    "\n",
    "print(\"✅ Original data loaded:\")\n",
    "print(df.head())"
   ]
  },
  {
   "cell_type": "code",
   "execution_count": 6,
   "id": "d71266fe",
   "metadata": {},
   "outputs": [
    {
     "name": "stdout",
     "output_type": "stream",
     "text": [
      "✅ Cleaned data:\n",
      "   id   name   age              email\n",
      "0   1  Alice  25.0  alice@example.com\n",
      "1   2    Bob  30.0    bob@example.com\n"
     ]
    }
   ],
   "source": [
    "# --------- TRANSFORM DATA ---------\n",
    "df_cleaned = df.dropna()\n",
    "\n",
    "print(\"✅ Cleaned data:\")\n",
    "print(df_cleaned.head())"
   ]
  },
  {
   "cell_type": "code",
   "execution_count": 7,
   "id": "90edd51e",
   "metadata": {},
   "outputs": [],
   "source": [
    "# --------- CONVERT TO PARQUET ---------\n",
    "table = pa.Table.from_pandas(df_cleaned)\n",
    "parquet_buffer = io.BytesIO()\n",
    "pq.write_table(table, parquet_buffer)"
   ]
  },
  {
   "cell_type": "code",
   "execution_count": 8,
   "id": "d85ff573",
   "metadata": {},
   "outputs": [
    {
     "name": "stdout",
     "output_type": "stream",
     "text": [
      "✅ Parquet file uploaded to s3://carol-s3-demo/data/output.parquet\n"
     ]
    }
   ],
   "source": [
    "# --------- UPLOAD PARQUET TO S3 ---------\n",
    "s3.put_object(Bucket=bucket_name, Key=output_key, Body=parquet_buffer.getvalue())\n",
    "print(f\"✅ Parquet file uploaded to s3://{bucket_name}/{output_key}\")"
   ]
  }
 ],
 "metadata": {
  "kernelspec": {
   "display_name": "base",
   "language": "python",
   "name": "python3"
  },
  "language_info": {
   "codemirror_mode": {
    "name": "ipython",
    "version": 3
   },
   "file_extension": ".py",
   "mimetype": "text/x-python",
   "name": "python",
   "nbconvert_exporter": "python",
   "pygments_lexer": "ipython3",
   "version": "3.9.18"
  }
 },
 "nbformat": 4,
 "nbformat_minor": 5
}
