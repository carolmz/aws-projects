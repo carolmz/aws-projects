import boto3
import pandas as pd
import io
import pyarrow as pa
import pyarrow.parquet as pq
